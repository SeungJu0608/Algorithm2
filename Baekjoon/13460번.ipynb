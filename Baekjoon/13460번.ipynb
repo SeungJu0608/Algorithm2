{
 "cells": [
  {
   "cell_type": "markdown",
   "id": "fantastic-minutes",
   "metadata": {},
   "source": [
    "### 구슬 탈출 2 ###\n",
    "\n",
    "스타트링크에서 판매하는 어린이용 장난감 중에서 가장 인기가 많은 제품은 구슬 탈출이다. 구슬 탈출은 직사각형 보드에 빨간 구슬과 파란 구슬을 하나씩 넣은 다음, 빨간 구슬을 구멍을 통해 빼내는 게임이다.\n",
    "\n",
    "보드의 세로 크기는 N, 가로 크기는 M이고, 편의상 1×1크기의 칸으로 나누어져 있다. 가장 바깥 행과 열은 모두 막혀져 있고, 보드에는 구멍이 하나 있다. 빨간 구슬과 파란 구슬의 크기는 보드에서 1×1크기의 칸을 가득 채우는 사이즈이고, 각각 하나씩 들어가 있다. 게임의 목표는 빨간 구슬을 구멍을 통해서 빼내는 것이다. 이때, 파란 구슬이 구멍에 들어가면 안 된다.\n",
    "\n",
    "이때, 구슬을 손으로 건드릴 수는 없고, 중력을 이용해서 이리 저리 굴려야 한다. 왼쪽으로 기울이기, 오른쪽으로 기울이기, 위쪽으로 기울이기, 아래쪽으로 기울이기와 같은 네 가지 동작이 가능하다.\n",
    "\n",
    "각각의 동작에서 공은 동시에 움직인다. 빨간 구슬이 구멍에 빠지면 성공이지만, 파란 구슬이 구멍에 빠지면 실패이다. 빨간 구슬과 파란 구슬이 동시에 구멍에 빠져도 실패이다. 빨간 구슬과 파란 구슬은 동시에 같은 칸에 있을 수 없다. 또, 빨간 구슬과 파란 구슬의 크기는 한 칸을 모두 차지한다. 기울이는 동작을 그만하는 것은 더 이상 구슬이 움직이지 않을 때 까지이다.\n",
    "\n",
    "보드의 상태가 주어졌을 때, 최소 몇 번 만에 빨간 구슬을 구멍을 통해 빼낼 수 있는지 구하는 프로그램을 작성하시오.\n",
    "\n",
    "#### 입력 ####\n",
    "첫 번째 줄에는 보드의 세로, 가로 크기를 의미하는 두 정수 N, M (3 ≤ N, M ≤ 10)이 주어진다. 다음 N개의 줄에 보드의 모양을 나타내는 길이 M의 문자열이 주어진다. 이 문자열은 '.', '#', 'O', 'R', 'B' 로 이루어져 있다. '.'은 빈 칸을 의미하고, '#'은 공이 이동할 수 없는 장애물 또는 벽을 의미하며, 'O'는 구멍의 위치를 의미한다. 'R'은 빨간 구슬의 위치, 'B'는 파란 구슬의 위치이다.\n",
    "\n",
    "입력되는 모든 보드의 가장자리에는 모두 '#'이 있다. 구멍의 개수는 한 개 이며, 빨간 구슬과 파란 구슬은 항상 1개가 주어진다.\n",
    "\n",
    "#### 출력 ####\n",
    "최소 몇 번 만에 빨간 구슬을 구멍을 통해 빼낼 수 있는지 출력한다. 만약, 10번 이하로 움직여서 빨간 구슬을 구멍을 통해 빼낼 수 없으면 -1을 출력한다."
   ]
  },
  {
   "cell_type": "code",
   "execution_count": null,
   "id": "useful-covering",
   "metadata": {},
   "outputs": [],
   "source": [
    "# 데이터 입력\n",
    "n, m = map(int, input().split())\n",
    "graph = [list(map(input())) for _ in range(n)]\n",
    "\n",
    "for i in range(n):\n",
    "    for j in range(m):\n",
    "        if graph[i][j] == 'R':\n",
    "            xr, yr = i, j\n",
    "        if graph[i][j] == 'B':\n",
    "            xb, yb = i, j"
   ]
  },
  {
   "cell_type": "markdown",
   "id": "extensive-manhattan",
   "metadata": {},
   "source": [
    "처음엔 미로찾기 문제처럼 접근하려했던것이 화근이었다.  \n",
    "두가지 구슬을 동시에 확인해야하고 한칸씩이동한 횟수(거리)가 아닌 움직인 방향, 즉 기울이는 동작을 몇번 하였는가를 세는 것이 관건이었다.  \n",
    "\n",
    "한 방향으로만 보았을때 움직임이 가능한 조건 :  \n",
    "    - '#' 만날때까지\n",
    "    - 'O' 만날때까지\n",
    "\n",
    "따라서 move함수를 지정해주었다.  \n",
    "이때 move 함수의 count는 그 방향으로 기울였을때 중력에 의해 움직인 거리를 의미한다.\n",
    "이는 이후 두 구슬을 같은 위치에 겹쳤을때 더 많이 거리를 움직인 구슬의 위치를 한단계 이전으로 되돌리기 위함이다. 만약 오른쪽으로 기울였을때 움직인 거리가 더 많은 구슬이 더 왼쪽에 위치하기 때문이다."
   ]
  },
  {
   "cell_type": "code",
   "execution_count": null,
   "id": "distant-eating",
   "metadata": {},
   "outputs": [],
   "source": [
    "def move(x, y, dx, dy):\n",
    "    count = 0\n",
    "    while graph[x][y] != 'O' and graph[x+dy][y+dy] != '#':\n",
    "        x += dx\n",
    "        y += dy\n",
    "        count += 1  # 한 방향으로 기울였을때 움직인 거리\n",
    "    return x, y, count"
   ]
  },
  {
   "cell_type": "code",
   "execution_count": null,
   "id": "artistic-conspiracy",
   "metadata": {},
   "outputs": [],
   "source": [
    "## 방문한 위치 저장하기\n",
    "# 이때 빨간구슬과 파란구슬의 방문위치를 동시에 저장한다.\n",
    "# visit[xr][yr][xb][yb]\n",
    "visit = [[[[False] * m for i in range(n)] for i in range(m)] for i in range(n)]"
   ]
  },
  {
   "cell_type": "code",
   "execution_count": 32,
   "id": "modular-bulletin",
   "metadata": {},
   "outputs": [],
   "source": [
    "# BFS 이용하기\n",
    "# x, y : x행 y열\n",
    "from collections import deque\n",
    "\n",
    "dx = [-1, 1, 0, 0]\n",
    "dy = [0, 0, -1, 1]\n",
    "\n",
    "def bfs(xr, yr, xb, yb, depth):\n",
    "    q = deque()\n",
    "    q.append((xr, yr, xb, yb, depth))\n",
    "    visit[xr][yr][xb][yb] = True\n",
    "    \n",
    "    while q:\n",
    "        xr, yr, xb, yb, d = q.popleft()\n",
    "        if d > 10:    # 기울인 횟수가 10 초과일 경우\n",
    "            print(-1)\n",
    "            return\n",
    "        # 4 방향에 대해서 \n",
    "        for i in range(4):\n",
    "            nxr, nyr, r_cnt = move(xr, yr, dx[i], dy[i])\n",
    "            nxb, nyb, b_cnt = move(xb, yb, dx[i], dy[i])\n",
    "            \n",
    "            if graph[nxb][nyb] != 'O':  # 움직일 수 있는 조건 \n",
    "                if graph[nxr][nyr] == 'O':   # 끝나는 조건\n",
    "                    print(d)\n",
    "                    return\n",
    "                if nxr == nxb and nyr == nyb:  # 두 구슬이 같은 위치에 놓일때.. 같은 위치에 놓일 수 없으므로\n",
    "                    if r_cnt > b_cnt:   # 더 많이 움직인 구슬을 한 단계 이전으로 되돌리기\n",
    "                        nxr -= dx[i]\n",
    "                        nyr -= dy[i]\n",
    "                    else:\n",
    "                        nxb -= dx[i]\n",
    "                        nyb -= dy[i]\n",
    "                if not visit[nxr][nyr][nxb][nyb]:  # 방문하지 않은 경우\n",
    "                    visit[nxr][nyr][nxb][nyb] = True  # 방문으로 체크\n",
    "                    q.append((nxr, nyr,nxb, nyb, d+1))  # 큐에 저장\n",
    "    print (-1)              "
   ]
  },
  {
   "cell_type": "code",
   "execution_count": null,
   "id": "rational-dayton",
   "metadata": {},
   "outputs": [],
   "source": [
    "# 결과 출력\n",
    "print(bfs(red, blue, 1))"
   ]
  },
  {
   "cell_type": "code",
   "execution_count": 69,
   "id": "documented-advertiser",
   "metadata": {},
   "outputs": [],
   "source": [
    "from collections import deque\n",
    "\n",
    "graph = [['#','#','#','#','#'],['#','.','.','B','#'],\n",
    "         ['#','.','#','.','#'],\n",
    "        ['#','R','O','.','#'],['#','#','#','#','#']]\n",
    "n = 5\n",
    "m = 5\n",
    "\n",
    "for i in range(n):\n",
    "    for j in range(m):\n",
    "        if graph[i][j] == 'R':\n",
    "            xr, yr = i, j\n",
    "        if graph[i][j] == 'B':\n",
    "            xb, yb = i, j\n",
    "\n",
    "dx = [-1, 1, 0, 0]\n",
    "dy = [0, 0, -1, 1]\n",
    " "
   ]
  },
  {
   "cell_type": "code",
   "execution_count": 70,
   "id": "sticky-behalf",
   "metadata": {},
   "outputs": [],
   "source": [
    "visit = [[[[False] * m for i in range(n)] for i in range(m)] for i in range(n)]"
   ]
  },
  {
   "cell_type": "code",
   "execution_count": 71,
   "id": "international-potential",
   "metadata": {},
   "outputs": [],
   "source": [
    "def move(x, y, dx, dy):\n",
    "    count = 0\n",
    "    while graph[x][y] != 'O' and graph[x+dy][y+dy] != '#':\n",
    "        x += dx\n",
    "        y += dy\n",
    "        count += 1  # 한 방향으로 기울였을때 움직인 거리\n",
    "    return x, y, count\n",
    "\n",
    "def bfs(xr, yr, xb, yb, depth):\n",
    "    q = deque()\n",
    "    q.append((xr, yr, xb, yb, depth))\n",
    "    visit[xr][yr][xb][yb] = True\n",
    "    \n",
    "    while q:\n",
    "        xr, yr, xb, yb, d = q.popleft()\n",
    "        if d > 10:    # 기울인 횟수가 10 초과일 경우\n",
    "            print(-1)\n",
    "            return\n",
    "        # 4 방향에 대해서 \n",
    "        for i in range(4):\n",
    "            nxr, nyr, r_cnt = move(xr, yr, dx[i], dy[i])\n",
    "            nxb, nyb, b_cnt = move(xb, yb, dx[i], dy[i])\n",
    "            \n",
    "            if graph[nxb][nyb] != 'O':  # 움직일 수 있는 조건 \n",
    "                if graph[nxr][nyr] == 'O':   # 끝나는 조건\n",
    "                    print(d)\n",
    "                    return\n",
    "                if nxr == nxb and nyr == nyb:  # 두 구슬이 같은 위치에 놓일때.. 같은 위치에 놓일 수 없으므로\n",
    "                    if r_cnt > b_cnt:   # 더 많이 움직인 구슬을 한 단계 이전으로 되돌리기\n",
    "                        nxr -= dx[i]\n",
    "                        nyr -= dy[i]\n",
    "                    else:\n",
    "                        nxb -= dx[i]\n",
    "                        nyb -= dy[i]\n",
    "                if not visit[nxr][nyr][nxb][nyb]:  # 방문하지 않은 경우\n",
    "                    visit[nxr][nyr][nxb][nyb] = True  # 방문으로 체크\n",
    "                    q.append((nxr, nyr,nxb, nyb, d+1))  # 큐에 저장\n",
    "    print (-1)                        "
   ]
  },
  {
   "cell_type": "code",
   "execution_count": 72,
   "id": "double-egyptian",
   "metadata": {},
   "outputs": [
    {
     "ename": "IndexError",
     "evalue": "list index out of range",
     "output_type": "error",
     "traceback": [
      "\u001b[1;31m---------------------------------------------------------------------------\u001b[0m",
      "\u001b[1;31mIndexError\u001b[0m                                Traceback (most recent call last)",
      "\u001b[1;32m<ipython-input-72-c40a7c651819>\u001b[0m in \u001b[0;36m<module>\u001b[1;34m\u001b[0m\n\u001b[1;32m----> 1\u001b[1;33m \u001b[0mbfs\u001b[0m\u001b[1;33m(\u001b[0m\u001b[0mxr\u001b[0m\u001b[1;33m,\u001b[0m\u001b[0myr\u001b[0m\u001b[1;33m,\u001b[0m\u001b[0mxb\u001b[0m\u001b[1;33m,\u001b[0m\u001b[0myb\u001b[0m\u001b[1;33m,\u001b[0m\u001b[1;36m1\u001b[0m\u001b[1;33m)\u001b[0m\u001b[1;33m\u001b[0m\u001b[1;33m\u001b[0m\u001b[0m\n\u001b[0m",
      "\u001b[1;32m<ipython-input-71-6b45ae067918>\u001b[0m in \u001b[0;36mbfs\u001b[1;34m(xr, yr, xb, yb, depth)\u001b[0m\n\u001b[0;32m     19\u001b[0m         \u001b[1;31m# 4 방향에 대해서\u001b[0m\u001b[1;33m\u001b[0m\u001b[1;33m\u001b[0m\u001b[1;33m\u001b[0m\u001b[0m\n\u001b[0;32m     20\u001b[0m         \u001b[1;32mfor\u001b[0m \u001b[0mi\u001b[0m \u001b[1;32min\u001b[0m \u001b[0mrange\u001b[0m\u001b[1;33m(\u001b[0m\u001b[1;36m4\u001b[0m\u001b[1;33m)\u001b[0m\u001b[1;33m:\u001b[0m\u001b[1;33m\u001b[0m\u001b[1;33m\u001b[0m\u001b[0m\n\u001b[1;32m---> 21\u001b[1;33m             \u001b[0mnxr\u001b[0m\u001b[1;33m,\u001b[0m \u001b[0mnyr\u001b[0m\u001b[1;33m,\u001b[0m \u001b[0mr_cnt\u001b[0m \u001b[1;33m=\u001b[0m \u001b[0mmove\u001b[0m\u001b[1;33m(\u001b[0m\u001b[0mxr\u001b[0m\u001b[1;33m,\u001b[0m \u001b[0myr\u001b[0m\u001b[1;33m,\u001b[0m \u001b[0mdx\u001b[0m\u001b[1;33m[\u001b[0m\u001b[0mi\u001b[0m\u001b[1;33m]\u001b[0m\u001b[1;33m,\u001b[0m \u001b[0mdy\u001b[0m\u001b[1;33m[\u001b[0m\u001b[0mi\u001b[0m\u001b[1;33m]\u001b[0m\u001b[1;33m)\u001b[0m\u001b[1;33m\u001b[0m\u001b[1;33m\u001b[0m\u001b[0m\n\u001b[0m\u001b[0;32m     22\u001b[0m             \u001b[0mnxb\u001b[0m\u001b[1;33m,\u001b[0m \u001b[0mnyb\u001b[0m\u001b[1;33m,\u001b[0m \u001b[0mb_cnt\u001b[0m \u001b[1;33m=\u001b[0m \u001b[0mmove\u001b[0m\u001b[1;33m(\u001b[0m\u001b[0mxb\u001b[0m\u001b[1;33m,\u001b[0m \u001b[0myb\u001b[0m\u001b[1;33m,\u001b[0m \u001b[0mdx\u001b[0m\u001b[1;33m[\u001b[0m\u001b[0mi\u001b[0m\u001b[1;33m]\u001b[0m\u001b[1;33m,\u001b[0m \u001b[0mdy\u001b[0m\u001b[1;33m[\u001b[0m\u001b[0mi\u001b[0m\u001b[1;33m]\u001b[0m\u001b[1;33m)\u001b[0m\u001b[1;33m\u001b[0m\u001b[1;33m\u001b[0m\u001b[0m\n\u001b[0;32m     23\u001b[0m \u001b[1;33m\u001b[0m\u001b[0m\n",
      "\u001b[1;32m<ipython-input-71-6b45ae067918>\u001b[0m in \u001b[0;36mmove\u001b[1;34m(x, y, dx, dy)\u001b[0m\n\u001b[0;32m      1\u001b[0m \u001b[1;32mdef\u001b[0m \u001b[0mmove\u001b[0m\u001b[1;33m(\u001b[0m\u001b[0mx\u001b[0m\u001b[1;33m,\u001b[0m \u001b[0my\u001b[0m\u001b[1;33m,\u001b[0m \u001b[0mdx\u001b[0m\u001b[1;33m,\u001b[0m \u001b[0mdy\u001b[0m\u001b[1;33m)\u001b[0m\u001b[1;33m:\u001b[0m\u001b[1;33m\u001b[0m\u001b[1;33m\u001b[0m\u001b[0m\n\u001b[0;32m      2\u001b[0m     \u001b[0mcount\u001b[0m \u001b[1;33m=\u001b[0m \u001b[1;36m0\u001b[0m\u001b[1;33m\u001b[0m\u001b[1;33m\u001b[0m\u001b[0m\n\u001b[1;32m----> 3\u001b[1;33m     \u001b[1;32mwhile\u001b[0m \u001b[0mgraph\u001b[0m\u001b[1;33m[\u001b[0m\u001b[0mx\u001b[0m\u001b[1;33m]\u001b[0m\u001b[1;33m[\u001b[0m\u001b[0my\u001b[0m\u001b[1;33m]\u001b[0m \u001b[1;33m!=\u001b[0m \u001b[1;34m'O'\u001b[0m \u001b[1;32mand\u001b[0m \u001b[0mgraph\u001b[0m\u001b[1;33m[\u001b[0m\u001b[0mx\u001b[0m\u001b[1;33m+\u001b[0m\u001b[0mdy\u001b[0m\u001b[1;33m]\u001b[0m\u001b[1;33m[\u001b[0m\u001b[0my\u001b[0m\u001b[1;33m+\u001b[0m\u001b[0mdy\u001b[0m\u001b[1;33m]\u001b[0m \u001b[1;33m!=\u001b[0m \u001b[1;34m'#'\u001b[0m\u001b[1;33m:\u001b[0m\u001b[1;33m\u001b[0m\u001b[1;33m\u001b[0m\u001b[0m\n\u001b[0m\u001b[0;32m      4\u001b[0m         \u001b[0mx\u001b[0m \u001b[1;33m+=\u001b[0m \u001b[0mdx\u001b[0m\u001b[1;33m\u001b[0m\u001b[1;33m\u001b[0m\u001b[0m\n\u001b[0;32m      5\u001b[0m         \u001b[0my\u001b[0m \u001b[1;33m+=\u001b[0m \u001b[0mdy\u001b[0m\u001b[1;33m\u001b[0m\u001b[1;33m\u001b[0m\u001b[0m\n",
      "\u001b[1;31mIndexError\u001b[0m: list index out of range"
     ]
    }
   ],
   "source": [
    "bfs(xr,yr,xb,yb,1)"
   ]
  },
  {
   "cell_type": "code",
   "execution_count": null,
   "id": "delayed-audit",
   "metadata": {},
   "outputs": [],
   "source": []
  }
 ],
 "metadata": {
  "kernelspec": {
   "display_name": "Python 3",
   "language": "python",
   "name": "python3"
  },
  "language_info": {
   "codemirror_mode": {
    "name": "ipython",
    "version": 3
   },
   "file_extension": ".py",
   "mimetype": "text/x-python",
   "name": "python",
   "nbconvert_exporter": "python",
   "pygments_lexer": "ipython3",
   "version": "3.7.9"
  }
 },
 "nbformat": 4,
 "nbformat_minor": 5
}
