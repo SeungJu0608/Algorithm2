{
 "cells": [
  {
   "cell_type": "markdown",
   "id": "blond-distribution",
   "metadata": {},
   "source": [
    "### 미로 탐색 ###\n",
    "\n",
    "N * M 크기의 배열로 표현되는 미로에서 1은 이동할 수 있는 칸을, 0은 이동할 수 없는 칸을 나타낸다. 이러한 미로가 주어졌을 때, (1,1)에서 출발하여 (N,M)의 위치로 이동할 때 지나야 하는 최소 칸의 개수를 구하는 프로그램을 작성하여라."
   ]
  },
  {
   "cell_type": "code",
   "execution_count": null,
   "id": "mobile-fitting",
   "metadata": {},
   "outputs": [],
   "source": [
    "# 데이터 입력\n",
    "n, m = map(int, input().split())\n",
    "graph = []\n",
    "for i in range(n):\n",
    "    graph.append(list(map(int, input())))"
   ]
  },
  {
   "cell_type": "markdown",
   "id": "synthetic-charter",
   "metadata": {},
   "source": [
    "너비 우선 탐색 알고리즘을 적용하여 풀 수 있다.\n",
    "또한 이전 위치의 숫자에 1을 더함으로써 이동 칸의 개수를 표시하고,\n",
    "1이 아닌 위치(노드)는 이미 한번 방문한 노드로 생각할 수 있다."
   ]
  },
  {
   "cell_type": "code",
   "execution_count": null,
   "id": "reflected-participation",
   "metadata": {},
   "outputs": [],
   "source": [
    "# BFS 알고리즘 이용하기\n",
    "from collections import deque\n",
    "\n",
    "def bfs(x,y):\n",
    "    q = deque()\n",
    "    start = (x, y)\n",
    "    # 이동할 수 있는 상,하,좌,우 \n",
    "    dy = [0 , 0 , -1 , 1]\n",
    "    dx = [-1 , 1 , 0 , 0]\n",
    "\n",
    "    q.append(start)\n",
    "    \n",
    "    while q:\n",
    "        x, y = q.popleft()\n",
    "        for i in range(4):\n",
    "            nx = x + dx[i]\n",
    "            ny = y + dy[i]\n",
    "            \n",
    "            if nx <= -1 or ny <= -1 or nx >= n or ny >= m:\n",
    "                continue\n",
    "            if graph[nx][ny] == 1:\n",
    "                graph[nx][ny] = graph[x][y] +1\n",
    "                q.append((nx, ny))\n",
    "            if graph[nx][ny] != 1:\n",
    "                continue\n",
    "    \n",
    "    return graph[n-1][m-1]\n",
    "\n",
    "print(bfs(0,0))"
   ]
  }
 ],
 "metadata": {
  "kernelspec": {
   "display_name": "Python 3",
   "language": "python",
   "name": "python3"
  },
  "language_info": {
   "codemirror_mode": {
    "name": "ipython",
    "version": 3
   },
   "file_extension": ".py",
   "mimetype": "text/x-python",
   "name": "python",
   "nbconvert_exporter": "python",
   "pygments_lexer": "ipython3",
   "version": "3.7.9"
  }
 },
 "nbformat": 4,
 "nbformat_minor": 5
}
