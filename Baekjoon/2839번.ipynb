{
 "cells": [
  {
   "cell_type": "markdown",
   "id": "placed-fiction",
   "metadata": {},
   "source": [
    "### 설탕 배달하기\n",
    "그리디 알고리즘 이용하기\n",
    "\n",
    "- 설탕공장의 설탕을 배달하는 상근이가 Nkg의 설탕을 가게에 배달해야한다.\n",
    "- 봉지는 3kg, 5kg 두 종류가 있다\n",
    "- 최대한 적은 봉지를 이용해 Nkg의 설탕을 배달해야할 때 봉지의 수를 구하는 프로그램을 작성한다.  \n",
    "- 첫째 줄에 N이 주어진다.(3 <= N <= 5000)\n",
    "- 배달하는 봉지의 최소 개수를 출력하고 정확하게 Nkg을 만들수 없다면 -1을 출력한다.\n",
    "\n",
    "\n",
    "이 문제는 최소의 봉지 개수를 구하기 위한 그리디 알고리즘 문제로 판단된다.\n",
    "또한 각 정수에 대해 5나 3을 빼고 나머지 값들에 대한 최소 봉지 개수를 파악하여 그들중 minimum값을 채택하는 점화식을 세울 수 있다\n",
    "다시말해,  \n",
    "*a(i) = ikg을 정확하게 배달할 수 있을 때 최소 봉지 개수* 라할때  \n",
    "##### a(i) = min(a(i-5),a(i-3))+1  #####\n",
    "1을 더하는 이유는 연산의 횟수를 세어야하기 때문이다.\n",
    "\n",
    "따라서 dynamic programming또한 이용하도록 한다."
   ]
  },
  {
   "cell_type": "code",
   "execution_count": 56,
   "id": "spectacular-gilbert",
   "metadata": {},
   "outputs": [
    {
     "name": "stdout",
     "output_type": "stream",
     "text": [
      "5\n"
     ]
    }
   ],
   "source": [
    "# 데이터 입력\n",
    "n = 19\n",
    "v = [5, 3]\n",
    "\n",
    "# 최소 봉지개수를 저장하기 위한 dp_table 초기화\n",
    "dp = [0]*5001\n",
    "for i in v:\n",
    "    dp[i] = 1\n",
    "\n",
    "\n",
    "# 다이나믹 프로그래밍\n",
    "for i in range(6, n+1):\n",
    "    if dp[i-5] == 0 and dp[i-3] != 0:\n",
    "        dp[i] = dp[i-3] + 1\n",
    "    if dp[i-5] != 0 and dp[i-3] == 0:\n",
    "        dp[i] = dp[i-5] + 1\n",
    "    if dp[i-3] != 0 and dp[i-5] != 0:\n",
    "        dp[i] = min(dp[i-5], dp[i-3]) + 1\n",
    "    \n",
    "# 결과 프린트\n",
    "if dp[n] == 0:\n",
    "    print(-1)\n",
    "else:\n",
    "    print(dp[n])\n",
    "        "
   ]
  }
 ],
 "metadata": {
  "kernelspec": {
   "display_name": "Python 3",
   "language": "python",
   "name": "python3"
  },
  "language_info": {
   "codemirror_mode": {
    "name": "ipython",
    "version": 3
   },
   "file_extension": ".py",
   "mimetype": "text/x-python",
   "name": "python",
   "nbconvert_exporter": "python",
   "pygments_lexer": "ipython3",
   "version": "3.7.9"
  }
 },
 "nbformat": 4,
 "nbformat_minor": 5
}
