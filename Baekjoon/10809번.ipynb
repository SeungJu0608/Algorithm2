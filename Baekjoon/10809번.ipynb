{
 "cells": [
  {
   "cell_type": "markdown",
   "id": "valuable-sterling",
   "metadata": {},
   "source": [
    "### 알파벳 찾기 ###\n",
    "\n",
    "알파벳 소문자로만 이루어진 단어 s가 주어진다.  \n",
    "각각의 알파벳에 대해서, 단어에 포함되어 있는 경우에는 처음 등장하는 위치를, 포함되어있지 않은 경우에는 -1을 출력하는 프로그램을 작성하기"
   ]
  },
  {
   "cell_type": "code",
   "execution_count": 18,
   "id": "tribal-rotation",
   "metadata": {},
   "outputs": [
    {
     "name": "stdout",
     "output_type": "stream",
     "text": [
      "1 0 -1 -1 2 -1 -1 -1 -1 4 3 -1 -1 7 5 -1 -1 -1 -1 -1 -1 -1 -1 -1 -1 -1 "
     ]
    }
   ],
   "source": [
    "# 데이터 입력\n",
    "s = str(input())\n",
    "\n",
    "# 프로그램 작성\n",
    "alphabet = [chr(i) for i in range(ord('a'), ord('z')+1)]\n",
    "### ord 함수 : 문자열에 해당하는 아스키코드로 변환시키는 함수\n",
    "result = [-1]*len(alphabet)\n",
    "\n",
    "for j in range(len(alphabet)):\n",
    "    for i in range(len(s)):\n",
    "        if result[j] != -1:\n",
    "            continue\n",
    "        if s[i] == alphabet[j]:\n",
    "            result[j] = i\n",
    "            \n",
    "for i in result:\n",
    "    print(i, end=' ')"
   ]
  },
  {
   "cell_type": "markdown",
   "id": "political-brazil",
   "metadata": {},
   "source": [
    "이때 find 함수 혹은 index 함수를 이용하는 방법이 있다.\n",
    "- find 함수 : 문자열에서만 사용 가능한 함수\n",
    "              찾는 문자가 문자열 안에서 첫 번째에 위치한 인덱스를 반환한다.\n",
    "              찾는 문자가 문자열 안에 포함되지 않은 경우 -1을 출력한다.\n",
    "- index 함수 : 문자열, 리스트, 튜플 등 같은 반복 가능한 iterable 자료형에서도 찾는 문자의 인덱스를 반환하는 함수\n",
    "               찾는 문자가 문자열 안에 포함되지 않은 경우 -1을 출력한다."
   ]
  },
  {
   "cell_type": "code",
   "execution_count": null,
   "id": "extended-secondary",
   "metadata": {},
   "outputs": [],
   "source": [
    "# find 함수 이용하기\n",
    "alphabet = list(range(97,123))  # 아스키코드 숫자 범위\n",
    "\n",
    "for x in alphabet:\n",
    "    print(s.find(chr(x)))\n",
    "## chr 함수 : 아스키코드에 해당하는 숫자를 문자열로 변환시키는 함수"
   ]
  }
 ],
 "metadata": {
  "kernelspec": {
   "display_name": "Python 3",
   "language": "python",
   "name": "python3"
  },
  "language_info": {
   "codemirror_mode": {
    "name": "ipython",
    "version": 3
   },
   "file_extension": ".py",
   "mimetype": "text/x-python",
   "name": "python",
   "nbconvert_exporter": "python",
   "pygments_lexer": "ipython3",
   "version": "3.7.9"
  }
 },
 "nbformat": 4,
 "nbformat_minor": 5
}
